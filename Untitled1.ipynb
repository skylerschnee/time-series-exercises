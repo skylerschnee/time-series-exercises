{
 "cells": [
  {
   "cell_type": "code",
   "execution_count": 1,
   "id": "16f30660",
   "metadata": {},
   "outputs": [
    {
     "name": "stdout",
     "output_type": "stream",
     "text": [
      "There are 124 currently active teams.\n",
      "The number of active teams per region is: \n",
      "[('NA', 29), ('EU', 25), ('SAM', 18), ('AF', 16), ('OCE', 15), ('ASIA', 12), ('ME', 9)]\n"
     ]
    }
   ],
   "source": [
    "from collections import Counter\n",
    "from octanegg import Octane\n",
    "\n",
    "with Octane() as client:\n",
    "    active_teams = client.get_active_teams()\n",
    "    num_active_teams = len(active_teams)\n",
    "    region_counts = Counter(team.get('team').get('region') for team in active_teams)\n",
    "\n",
    "print(f'There are {num_active_teams} currently active teams.')\n",
    "print('The number of active teams per region is: ')\n",
    "print(region_counts.most_common())"
   ]
  },
  {
   "cell_type": "code",
   "execution_count": 2,
   "id": "b5cc6775",
   "metadata": {},
   "outputs": [
    {
     "data": {
      "text/plain": [
       "124"
      ]
     },
     "execution_count": 2,
     "metadata": {},
     "output_type": "execute_result"
    }
   ],
   "source": [
    "num_active_teams"
   ]
  },
  {
   "cell_type": "code",
   "execution_count": null,
   "id": "aa8379b2",
   "metadata": {},
   "outputs": [],
   "source": []
  },
  {
   "cell_type": "code",
   "execution_count": null,
   "id": "5ffb8a12",
   "metadata": {},
   "outputs": [],
   "source": []
  }
 ],
 "metadata": {
  "kernelspec": {
   "display_name": "Python 3 (ipykernel)",
   "language": "python",
   "name": "python3"
  },
  "language_info": {
   "codemirror_mode": {
    "name": "ipython",
    "version": 3
   },
   "file_extension": ".py",
   "mimetype": "text/x-python",
   "name": "python",
   "nbconvert_exporter": "python",
   "pygments_lexer": "ipython3",
   "version": "3.9.13"
  }
 },
 "nbformat": 4,
 "nbformat_minor": 5
}
