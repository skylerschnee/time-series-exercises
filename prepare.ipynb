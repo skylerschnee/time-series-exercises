{
 "cells": [
  {
   "cell_type": "code",
   "execution_count": null,
   "id": "8b2a183a",
   "metadata": {},
   "outputs": [],
   "source": [
    "import pandas as pd\n",
    "import datetime\n",
    "import numpy as np\n",
    "\n",
    "import warnings\n",
    "warnings.filterwarnings(\"ignore\")\n",
    "\n",
    "\n",
    "def prepare_store_items(df):\n",
    "    '''\n",
    "    prepare_store_items takes in store items df, converts date column to datetype\n",
    "    dtype, sets it as the index, adds comuns for month, day of the week, and sales \n",
    "    total. \n",
    "    '''\n",
    "    # set col as datetime\n",
    "    df['sale_date'] = pd.to_datetime(df['sale_date'])\n",
    "    # set col as index\n",
    "    df = df.set_index('sale_date').sort_index()\n",
    "    # create month column\n",
    "    df['month'] = df.index.month_name()\n",
    "    # create day of week column\n",
    "    df['day_of_week'] = df.index.day_name()\n",
    "    # create sales total column\n",
    "    df['sales_total'] = df['sale_amount'] * df['item_price']\n",
    "    # return reconstructed df\n",
    "    return df\n",
    "\n",
    "def prep_ops_data(df):\n",
    "    '''\n",
    "    prep_ops_data takes in germany_ops_data df, converts Date col to datetime,\n",
    "    sets it as the index, adds col for month and a col for year, the fills null\n",
    "    values, renames columns to remove capitalization. \n",
    "    '''\n",
    "    # convert date dtype to datetime\n",
    "    df['Date'] = pd.to_datetime(df['Date'])\n",
    "    # set it as the index\n",
    "    df = df.set_index('Date').sort_index()\n",
    "    # rename columns to remove capitalization\n",
    "    df = df.rename(columns={'Consumption':'consumption', 'Wind':'wind', 'Solar':'solar','Wind+Solar':'wind_solar'})\n",
    "    \n",
    "    # create col for month\n",
    "    df['month'] = df.index.month_name()\n",
    "    # create col for year\n",
    "    df['year'] = df.index.year\n",
    "    #fill nulls with 0\n",
    "    df = df.fillna(0)\n",
    "    \n",
    "    return df"
   ]
  }
 ],
 "metadata": {
  "kernelspec": {
   "display_name": "Python 3 (ipykernel)",
   "language": "python",
   "name": "python3"
  },
  "language_info": {
   "codemirror_mode": {
    "name": "ipython",
    "version": 3
   },
   "file_extension": ".py",
   "mimetype": "text/x-python",
   "name": "python",
   "nbconvert_exporter": "python",
   "pygments_lexer": "ipython3",
   "version": "3.9.13"
  }
 },
 "nbformat": 4,
 "nbformat_minor": 5
}
